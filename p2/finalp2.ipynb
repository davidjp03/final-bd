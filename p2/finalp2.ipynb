{
  "nbformat": 4,
  "nbformat_minor": 0,
  "metadata": {
    "colab": {
      "provenance": []
    },
    "kernelspec": {
      "name": "python3",
      "display_name": "Python 3"
    },
    "language_info": {
      "name": "python"
    }
  },
  "cells": [
    {
      "cell_type": "code",
      "source": [
        "!pip install google-cloud-storage"
      ],
      "metadata": {
        "colab": {
          "base_uri": "https://localhost:8080/"
        },
        "id": "7GmYdWhSyEAI",
        "outputId": "c3c75c06-b19b-44ff-db90-51a6d006350a"
      },
      "execution_count": 1,
      "outputs": [
        {
          "output_type": "stream",
          "name": "stdout",
          "text": [
            "Requirement already satisfied: google-cloud-storage in /usr/local/lib/python3.10/dist-packages (2.8.0)\n",
            "Requirement already satisfied: google-auth<3.0dev,>=1.25.0 in /usr/local/lib/python3.10/dist-packages (from google-cloud-storage) (2.27.0)\n",
            "Requirement already satisfied: google-api-core!=2.0.*,!=2.1.*,!=2.2.*,!=2.3.0,<3.0.0dev,>=1.31.5 in /usr/local/lib/python3.10/dist-packages (from google-cloud-storage) (2.19.2)\n",
            "Requirement already satisfied: google-cloud-core<3.0dev,>=2.3.0 in /usr/local/lib/python3.10/dist-packages (from google-cloud-storage) (2.4.1)\n",
            "Requirement already satisfied: google-resumable-media>=2.3.2 in /usr/local/lib/python3.10/dist-packages (from google-cloud-storage) (2.7.2)\n",
            "Requirement already satisfied: requests<3.0.0dev,>=2.18.0 in /usr/local/lib/python3.10/dist-packages (from google-cloud-storage) (2.32.3)\n",
            "Requirement already satisfied: googleapis-common-protos<2.0.dev0,>=1.56.2 in /usr/local/lib/python3.10/dist-packages (from google-api-core!=2.0.*,!=2.1.*,!=2.2.*,!=2.3.0,<3.0.0dev,>=1.31.5->google-cloud-storage) (1.66.0)\n",
            "Requirement already satisfied: protobuf!=3.20.0,!=3.20.1,!=4.21.0,!=4.21.1,!=4.21.2,!=4.21.3,!=4.21.4,!=4.21.5,<6.0.0.dev0,>=3.19.5 in /usr/local/lib/python3.10/dist-packages (from google-api-core!=2.0.*,!=2.1.*,!=2.2.*,!=2.3.0,<3.0.0dev,>=1.31.5->google-cloud-storage) (4.25.5)\n",
            "Requirement already satisfied: proto-plus<2.0.0dev,>=1.22.3 in /usr/local/lib/python3.10/dist-packages (from google-api-core!=2.0.*,!=2.1.*,!=2.2.*,!=2.3.0,<3.0.0dev,>=1.31.5->google-cloud-storage) (1.25.0)\n",
            "Requirement already satisfied: cachetools<6.0,>=2.0.0 in /usr/local/lib/python3.10/dist-packages (from google-auth<3.0dev,>=1.25.0->google-cloud-storage) (5.5.0)\n",
            "Requirement already satisfied: pyasn1-modules>=0.2.1 in /usr/local/lib/python3.10/dist-packages (from google-auth<3.0dev,>=1.25.0->google-cloud-storage) (0.4.1)\n",
            "Requirement already satisfied: rsa<5,>=3.1.4 in /usr/local/lib/python3.10/dist-packages (from google-auth<3.0dev,>=1.25.0->google-cloud-storage) (4.9)\n",
            "Requirement already satisfied: google-crc32c<2.0dev,>=1.0 in /usr/local/lib/python3.10/dist-packages (from google-resumable-media>=2.3.2->google-cloud-storage) (1.6.0)\n",
            "Requirement already satisfied: charset-normalizer<4,>=2 in /usr/local/lib/python3.10/dist-packages (from requests<3.0.0dev,>=2.18.0->google-cloud-storage) (3.4.0)\n",
            "Requirement already satisfied: idna<4,>=2.5 in /usr/local/lib/python3.10/dist-packages (from requests<3.0.0dev,>=2.18.0->google-cloud-storage) (3.10)\n",
            "Requirement already satisfied: urllib3<3,>=1.21.1 in /usr/local/lib/python3.10/dist-packages (from requests<3.0.0dev,>=2.18.0->google-cloud-storage) (2.2.3)\n",
            "Requirement already satisfied: certifi>=2017.4.17 in /usr/local/lib/python3.10/dist-packages (from requests<3.0.0dev,>=2.18.0->google-cloud-storage) (2024.8.30)\n",
            "Requirement already satisfied: pyasn1<0.7.0,>=0.4.6 in /usr/local/lib/python3.10/dist-packages (from pyasn1-modules>=0.2.1->google-auth<3.0dev,>=1.25.0->google-cloud-storage) (0.6.1)\n"
          ]
        }
      ]
    },
    {
      "cell_type": "code",
      "execution_count": 2,
      "metadata": {
        "colab": {
          "base_uri": "https://localhost:8080/"
        },
        "id": "UlF8mQGyvsOj",
        "outputId": "3453cbec-385c-4f4f-dac5-0cebcc977a00"
      },
      "outputs": [
        {
          "output_type": "stream",
          "name": "stdout",
          "text": [
            "Mounted at /content/drive\n",
            "\n",
            "You are running on a Google Compute Engine virtual machine.\n",
            "The service credentials associated with this virtual machine\n",
            "will automatically be used by Application Default\n",
            "Credentials, so it is not necessary to use this command.\n",
            "\n",
            "If you decide to proceed anyway, your user credentials may be visible\n",
            "to others with access to this virtual machine. Are you sure you want\n",
            "to authenticate with your personal account?\n",
            "\n",
            "Do you want to continue (Y/n)?  n\n",
            "\n",
            "\u001b[1;31mERROR:\u001b[0m (gcloud.auth.application-default.login) Aborted by user.\n"
          ]
        }
      ],
      "source": [
        "from google.colab import drive, auth\n",
        "drive.mount('/content/drive')\n",
        "auth.authenticate_user()\n",
        "\n",
        "# Establece las credenciales para Google Cloud\n",
        "!gcloud auth application-default login"
      ]
    },
    {
      "cell_type": "code",
      "source": [
        "import requests\n",
        "import pandas as pd"
      ],
      "metadata": {
        "id": "OZN1cxcnwLqX"
      },
      "execution_count": 3,
      "outputs": []
    },
    {
      "cell_type": "code",
      "source": [
        "# URL de la API de Harry Potter\n",
        "API_URL = \"https://hp-api.onrender.com/api/characters\"\n",
        "\n",
        "# Conexión a la API\n",
        "try:\n",
        "    response = requests.get(API_URL)\n",
        "    response.raise_for_status()\n",
        "    data = response.json()\n",
        "    print(\"Conexión exitosa\")\n",
        "except requests.exceptions.RequestException as e:\n",
        "    print(f\"Error al conectarse a la API: {e}\")\n",
        "    data = []"
      ],
      "metadata": {
        "id": "Osxq09tmwBAo",
        "colab": {
          "base_uri": "https://localhost:8080/"
        },
        "outputId": "ee7cc8a2-8d56-4cbc-8568-cfa697889de7"
      },
      "execution_count": 4,
      "outputs": [
        {
          "output_type": "stream",
          "name": "stdout",
          "text": [
            "Conexión exitosa\n"
          ]
        }
      ]
    },
    {
      "cell_type": "code",
      "source": [
        "# Procesar datos\n",
        "characters = []\n",
        "for char in data:\n",
        "    role = \"Staff\" if char.get(\"hogwartsStaff\") else (\"Student\" if char.get(\"hogwartsStudent\") else \"Unknown\")\n",
        "    character = {\n",
        "        \"name\": char.get(\"name\"),\n",
        "        \"house\": char.get(\"house\", \"Unknown\"),\n",
        "        \"role\": role\n",
        "    }\n",
        "    characters.append(character)\n"
      ],
      "metadata": {
        "id": "hHnwaPBqwrkA"
      },
      "execution_count": 5,
      "outputs": []
    },
    {
      "cell_type": "code",
      "source": [
        "# Crear DataFrame\n",
        "df = pd.DataFrame(characters)\n",
        "\n",
        "# Mostrar los primeros 5 registros\n",
        "print(df.head())"
      ],
      "metadata": {
        "colab": {
          "base_uri": "https://localhost:8080/"
        },
        "id": "ACXVjNR1wvX4",
        "outputId": "2f6bf080-f056-4e19-fddd-bbda363b6de0"
      },
      "execution_count": 6,
      "outputs": [
        {
          "output_type": "stream",
          "name": "stdout",
          "text": [
            "                 name       house     role\n",
            "0        Harry Potter  Gryffindor  Student\n",
            "1    Hermione Granger  Gryffindor  Student\n",
            "2         Ron Weasley  Gryffindor  Student\n",
            "3        Draco Malfoy   Slytherin  Student\n",
            "4  Minerva McGonagall  Gryffindor    Staff\n"
          ]
        }
      ]
    },
    {
      "cell_type": "code",
      "source": [
        "\n",
        "output_file = \"/content/drive/My Drive/harry_potter_characters.csv\"\n",
        "df.to_csv(output_file, index=False, encoding=\"utf-8\")\n",
        "print(f\"Datos guardados en {output_file}\")"
      ],
      "metadata": {
        "colab": {
          "base_uri": "https://localhost:8080/"
        },
        "id": "rUGbMVWYw3yX",
        "outputId": "e0ff9520-d0a0-439a-b1b0-85b44f3b2b01"
      },
      "execution_count": 7,
      "outputs": [
        {
          "output_type": "stream",
          "name": "stdout",
          "text": [
            "Datos guardados en /content/drive/My Drive/harry_potter_characters.csv\n"
          ]
        }
      ]
    },
    {
      "cell_type": "code",
      "source": [
        "from google.cloud import storage\n",
        "\n",
        "def upload_csv_to_gcs(bucket_name, source_file_name, destination_blob_name):\n",
        "\n",
        "    storage_client = storage.Client()\n",
        "\n",
        "    bucket = storage_client.bucket(bucket_name)\n",
        "\n",
        "    blob = bucket.blob(destination_blob_name)\n",
        "\n",
        "    blob.upload_from_filename(source_file_name)\n",
        "\n",
        "    print(f\"Archivo {source_file_name} subido a {destination_blob_name} en el bucket {bucket_name}.\")\n",
        "\n",
        "output_file = \"harry_potter_characters.csv\"\n",
        "\n",
        "df.to_csv(output_file, index=False, encoding=\"utf-8\")\n",
        "\n",
        "bucket_name = \"bucket_final_bd\"\n",
        "destination_blob_name = \"harry_potter_characters.csv\"\n",
        "\n",
        "upload_csv_to_gcs(bucket_name, output_file, destination_blob_name)\n"
      ],
      "metadata": {
        "colab": {
          "base_uri": "https://localhost:8080/"
        },
        "id": "XQFx4Psb6mAh",
        "outputId": "3e688a85-9ddf-47ec-ee88-040621d44f32"
      },
      "execution_count": 8,
      "outputs": [
        {
          "output_type": "stream",
          "name": "stdout",
          "text": [
            "Archivo harry_potter_characters.csv subido a harry_potter_characters.csv en el bucket bucket_final_bd.\n"
          ]
        }
      ]
    }
  ]
}